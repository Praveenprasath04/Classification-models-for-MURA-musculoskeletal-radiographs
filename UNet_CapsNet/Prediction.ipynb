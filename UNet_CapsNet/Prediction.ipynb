{
 "cells": [
  {
   "cell_type": "code",
   "execution_count": null,
   "id": "8f69a0ad-1e86-40f3-b527-6958aac50749",
   "metadata": {},
   "outputs": [],
   "source": [
    "import torch\n",
    "from torchvision import transforms\n",
    "from PIL import Image\n",
    "\n",
    "def load_model(model_path, model_class):\n",
    "    model = model_class()\n",
    "    model.load_state_dict(torch.load(model_path))\n",
    "    model.eval()\n",
    "    return model\n",
    "\n",
    "def predict(model, image_path, transform):\n",
    "    image = Image.open(image_path).convert(\"L\")\n",
    "    image = transform(image).unsqueeze(0).unsqueeze(0)\n",
    "    with torch.no_grad():\n",
    "        output = model(image)\n",
    "    _, predicted = torch.max(output, 1)\n",
    "    return predicted.item()\n",
    "\n",
    "transform = transforms.Compose([\n",
    "    transforms.ToTensor(),\n",
    "    transforms.Normalize((0.5,), (0.5,))\n",
    "])\n",
    "\n",
    "unet_model = load_model('unet_model.pth', UNet)\n",
    "capsnet_model = load_model('efficient_capsnet_model.pth', EfficientCapsNet)\n",
    "\n",
    "def segment_and_predict(image_path):\n",
    "    # Segment the image using UNet\n",
    "    segmented_image = predict(unet_model, image_path, transform)\n",
    "    segmented_image = segmented_image.squeeze().numpy()\n",
    "    \n",
    "    # Save the segmented image for further processing\n",
    "    segmented_image_path = 'segmented_image.png'\n",
    "    Image.fromarray((segmented_image * 255).astype('uint8')).save(segmented_image_path)\n",
    "\n",
    "    # Predict the class using Efficient CapsNet\n",
    "    prediction = predict(capsnet_model, segmented_image_path, transform)\n",
    "    return prediction\n",
    "\n",
    "# Example usage\n",
    "image_path = 'path/to/test/image.png'\n",
    "prediction = segment_and_predict(image_path)\n",
    "print(f\"Prediction: {prediction}\")\n"
   ]
  }
 ],
 "metadata": {
  "kernelspec": {
   "display_name": "Python 3 (ipykernel)",
   "language": "python",
   "name": "python3"
  },
  "language_info": {
   "codemirror_mode": {
    "name": "ipython",
    "version": 3
   },
   "file_extension": ".py",
   "mimetype": "text/x-python",
   "name": "python",
   "nbconvert_exporter": "python",
   "pygments_lexer": "ipython3",
   "version": "3.11.5"
  }
 },
 "nbformat": 4,
 "nbformat_minor": 5
}
