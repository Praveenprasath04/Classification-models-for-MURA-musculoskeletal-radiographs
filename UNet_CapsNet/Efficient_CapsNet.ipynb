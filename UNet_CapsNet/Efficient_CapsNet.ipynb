{
 "cells": [
  {
   "cell_type": "code",
   "execution_count": null,
   "id": "645f47dd-2e06-4b49-acf9-d5a5c314a259",
   "metadata": {},
   "outputs": [],
   "source": [
    "import torch\n",
    "import torch.nn as nn\n",
    "\n",
    "class EfficientCapsNet(nn.Module):\n",
    "    def __init__(self):\n",
    "        super(EfficientCapsNet, self).__init__()\n",
    "        self.conv1 = nn.Conv2d(in_channels=1, out_channels=256, kernel_size=9, stride=1)\n",
    "        self.conv2 = nn.Conv2d(in_channels=256, out_channels=256, kernel_size=9, stride=2)\n",
    "        \n",
    "        self.primary_caps = nn.Conv2d(in_channels=256, out_channels=8*32, kernel_size=9, stride=2)\n",
    "        self.primary_caps_activation = nn.ReLU(inplace=True)\n",
    "\n",
    "        self.digit_caps = nn.Conv2d(in_channels=8*32, out_channels=16*32, kernel_size=9, stride=2)\n",
    "        self.digit_caps_activation = nn.Softmax(dim=-1)\n",
    "\n",
    "        self.fc1 = nn.Linear(in_features=16*32, out_features=512)\n",
    "        self.fc2 = nn.Linear(in_features=512, out_features=2)  # Assuming binary classification\n",
    "\n",
    "    def forward(self, x):\n",
    "        x = self.conv1(x)\n",
    "        x = self.conv2(x)\n",
    "        x = self.primary_caps(x)\n",
    "        x = self.primary_caps_activation(x)\n",
    "        x = self.digit_caps(x)\n",
    "        x = self.digit_caps_activation(x)\n",
    "        x = x.view(x.size(0), -1)\n",
    "        x = self.fc1(x)\n",
    "        x = self.fc2(x)\n",
    "        return x\n",
    "\n",
    "model = EfficientCapsNet()\n",
    "criterion = nn.CrossEntropyLoss()\n",
    "optimizer = torch.optim.Adam(model.parameters(), lr=1e-4)\n",
    "\n",
    "# Example training loop\n",
    "num_epochs = 25\n",
    "for epoch in range(num_epochs):\n",
    "    model.train()\n",
    "    epoch_loss = 0\n",
    "    for images, labels in dataloader:\n",
    "        images = images.unsqueeze(1).float()\n",
    "        labels = labels.long()\n",
    "        \n",
    "        outputs = model(images)\n",
    "        loss = criterion(outputs, labels)\n",
    "        optimizer.zero_grad()\n",
    "        loss.backward()\n",
    "        optimizer.step()\n",
    "        epoch_loss += loss.item()\n",
    "\n",
    "    print(f\"Epoch {epoch+1}/{num_epochs}, Loss: {epoch_loss/len(dataloader)}\")\n",
    "\n",
    "# Save the model\n",
    "torch.save(model.state_dict(), 'efficient_capsnet_model.pth')\n"
   ]
  }
 ],
 "metadata": {
  "kernelspec": {
   "display_name": "Python 3 (ipykernel)",
   "language": "python",
   "name": "python3"
  },
  "language_info": {
   "codemirror_mode": {
    "name": "ipython",
    "version": 3
   },
   "file_extension": ".py",
   "mimetype": "text/x-python",
   "name": "python",
   "nbconvert_exporter": "python",
   "pygments_lexer": "ipython3",
   "version": "3.11.5"
  }
 },
 "nbformat": 4,
 "nbformat_minor": 5
}
